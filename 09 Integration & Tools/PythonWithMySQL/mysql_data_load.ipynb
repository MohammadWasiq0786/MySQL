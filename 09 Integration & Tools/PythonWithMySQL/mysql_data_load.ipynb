{
 "cells": [
  {
   "cell_type": "code",
   "execution_count": 1,
   "id": "0f480892",
   "metadata": {},
   "outputs": [
    {
     "name": "stdout",
     "output_type": "stream",
     "text": [
      "Collecting mysql-connector-python\n",
      "  Downloading mysql_connector_python-9.3.0-cp310-cp310-win_amd64.whl.metadata (7.5 kB)\n",
      "Downloading mysql_connector_python-9.3.0-cp310-cp310-win_amd64.whl (16.4 MB)\n",
      "   ---------------------------------------- 0.0/16.4 MB ? eta -:--:--\n",
      "   ---------------------------- ----------- 11.5/16.4 MB 60.0 MB/s eta 0:00:01\n",
      "   ---------------------------------------- 16.4/16.4 MB 57.3 MB/s eta 0:00:00\n",
      "Installing collected packages: mysql-connector-python\n",
      "Successfully installed mysql-connector-python-9.3.0\n",
      "Note: you may need to restart the kernel to use updated packages.\n"
     ]
    }
   ],
   "source": [
    "pip install mysql-connector-python"
   ]
  },
  {
   "cell_type": "code",
   "execution_count": 1,
   "id": "31f5f900",
   "metadata": {},
   "outputs": [],
   "source": [
    "import mysql.connector"
   ]
  },
  {
   "cell_type": "code",
   "execution_count": 2,
   "id": "0ed6769e",
   "metadata": {},
   "outputs": [],
   "source": [
    "conn = mysql.connector.connect(\n",
    "    host=\"localhost\",\n",
    "    user=\"root\",\n",
    "    password=\"admin123456@\",\n",
    "    database='test123'\n",
    ")"
   ]
  },
  {
   "cell_type": "code",
   "execution_count": 3,
   "id": "ba2876e8",
   "metadata": {},
   "outputs": [],
   "source": [
    "cursor = conn.cursor()"
   ]
  },
  {
   "cell_type": "code",
   "execution_count": null,
   "id": "bbb60e5b",
   "metadata": {},
   "outputs": [],
   "source": [
    "cursor.execute(\"\"\"\n",
    "    CREATE TABLE IF NOT EXISTS test123.employees (\n",
    "        id INT PRIMARY KEY,\n",
    "        name VARCHAR(100),\n",
    "        salary DECIMAL(10,2),\n",
    "        doj DATE,\n",
    "        dept VARCHAR(50)\n",
    "    )\n",
    "\"\"\")"
   ]
  },
  {
   "cell_type": "code",
   "execution_count": null,
   "id": "bb3cf246",
   "metadata": {},
   "outputs": [],
   "source": []
  },
  {
   "cell_type": "code",
   "execution_count": 4,
   "id": "b316ec7f",
   "metadata": {},
   "outputs": [
    {
     "name": "stdout",
     "output_type": "stream",
     "text": [
      "['1', 'John Doe', '50000', '2022-01-15', 'HR']\n",
      "['2', 'Jane Smith', '60000', '2021-09-01', 'Finance']\n",
      "['3', 'Alice Johnson', '55000', '2023-03-20', 'IT']\n",
      "['4', 'Bob Lee', '70000', '2020-07-12', 'Marketing']\n",
      "['5', 'Sara Khan', '', '2019-12-05', 'HR']\n"
     ]
    }
   ],
   "source": [
    "import csv\n",
    "with open('employee.csv',newline='') as f :\n",
    "    reader = csv.reader(f)\n",
    "    next(reader) #skip the header part\n",
    "    for row in reader:\n",
    "        print(row)\n",
    "        salary =row[2]  if  row[2] != '' else None\n",
    "        cursor.execute(\"insert into test123.employees(id,name,salary,doj,dept) values(%s,%s,%s,%s,%s)\",\n",
    "                       (row[0] ,row[1],salary,row[3],row[4]))\n",
    "        "
   ]
  },
  {
   "cell_type": "code",
   "execution_count": 5,
   "id": "d0401d9f",
   "metadata": {},
   "outputs": [],
   "source": [
    "conn.commit()"
   ]
  },
  {
   "cell_type": "code",
   "execution_count": 6,
   "id": "b70c3a89",
   "metadata": {},
   "outputs": [
    {
     "name": "stdout",
     "output_type": "stream",
     "text": [
      "['1', 'John Doe', '50000', '2022-01-15', 'HR']\n",
      "['2', 'Jane Smith', '60000', '2021-09-01', 'Finance']\n",
      "['3', 'Alice Johnson', '55000', '2023-03-20', 'IT']\n",
      "['4', 'Bob Lee', '70000', '2020-07-12', 'Marketing']\n",
      "['5', 'Sara Khan', '', '2019-12-05', 'HR']\n"
     ]
    }
   ],
   "source": [
    "import csv\n",
    "rows_to_insert = []\n",
    "with open('employee.csv',newline='') as f :\n",
    "    reader = csv.reader(f)\n",
    "    next(reader) #skip the header part\n",
    "    for row in reader:\n",
    "        print(row)\n",
    "        salary =row[2]  if  row[2] != '' else None\n",
    "        rows_to_insert.append((row[0] ,row[1],salary,row[3],row[4]))\n",
    "   "
   ]
  },
  {
   "cell_type": "code",
   "execution_count": 7,
   "id": "855d3843",
   "metadata": {},
   "outputs": [
    {
     "data": {
      "text/plain": [
       "[('1', 'John Doe', '50000', '2022-01-15', 'HR'),\n",
       " ('2', 'Jane Smith', '60000', '2021-09-01', 'Finance'),\n",
       " ('3', 'Alice Johnson', '55000', '2023-03-20', 'IT'),\n",
       " ('4', 'Bob Lee', '70000', '2020-07-12', 'Marketing'),\n",
       " ('5', 'Sara Khan', None, '2019-12-05', 'HR')]"
      ]
     },
     "execution_count": 7,
     "metadata": {},
     "output_type": "execute_result"
    }
   ],
   "source": [
    "rows_to_insert"
   ]
  },
  {
   "cell_type": "code",
   "execution_count": 8,
   "id": "8785d841",
   "metadata": {},
   "outputs": [],
   "source": [
    "cursor.executemany(\"insert into test123.employees(id,name,salary,doj,dept) values(%s,%s,%s,%s,%s)\",\n",
    "                       rows_to_insert)"
   ]
  },
  {
   "cell_type": "code",
   "execution_count": 9,
   "id": "9eb88820",
   "metadata": {},
   "outputs": [],
   "source": [
    "conn.commit()"
   ]
  },
  {
   "cell_type": "code",
   "execution_count": 10,
   "id": "24ba0a00",
   "metadata": {},
   "outputs": [
    {
     "data": {
      "text/plain": [
       "True"
      ]
     },
     "execution_count": 10,
     "metadata": {},
     "output_type": "execute_result"
    }
   ],
   "source": [
    "cursor.close()"
   ]
  },
  {
   "cell_type": "code",
   "execution_count": 11,
   "id": "5760acd7",
   "metadata": {},
   "outputs": [],
   "source": [
    "conn.close()"
   ]
  },
  {
   "cell_type": "code",
   "execution_count": null,
   "id": "d833701e",
   "metadata": {},
   "outputs": [],
   "source": []
  }
 ],
 "metadata": {
  "kernelspec": {
   "display_name": "agenticai",
   "language": "python",
   "name": "python3"
  },
  "language_info": {
   "codemirror_mode": {
    "name": "ipython",
    "version": 3
   },
   "file_extension": ".py",
   "mimetype": "text/x-python",
   "name": "python",
   "nbconvert_exporter": "python",
   "pygments_lexer": "ipython3",
   "version": "3.10.16"
  }
 },
 "nbformat": 4,
 "nbformat_minor": 5
}
